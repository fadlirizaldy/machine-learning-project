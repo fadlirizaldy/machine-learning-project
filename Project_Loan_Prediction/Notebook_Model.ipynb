{
 "cells": [
  {
   "cell_type": "markdown",
   "id": "3e69ca36",
   "metadata": {},
   "source": [
    "# Hello, \n",
    "This notebook is how my project goes. \n",
    "this project is called loan prediction using random forest classifier\n",
    "\n",
    "### This project is using an open dataset from Kaggle\n",
    "link : https://www.kaggle.com/datasets/kmldas/loan-default-prediction\n",
    "\n",
    "This is a synthetic dataset created using actual data from a financial institution. The data has been modified to remove identifiable features and the numbers transformed to ensure they do not link to original source (financial institution). This is intended to be used for academic purposes for beginners who want to practice financial analytics from a simple financial dataset\n"
   ]
  },
  {
   "cell_type": "code",
   "execution_count": 2,
   "id": "84798c34",
   "metadata": {
    "ExecuteTime": {
     "end_time": "2022-09-22T11:54:30.839278Z",
     "start_time": "2022-09-22T11:54:30.825274Z"
    }
   },
   "outputs": [],
   "source": [
    "# import common package\n",
    "import numpy as np\n",
    "import pandas as pd\n",
    "import seaborn as sns\n",
    "\n",
    "from sklearn.model_selection import train_test_split\n",
    "from sklearn.pipeline import Pipeline\n",
    "from sklearn.compose import ColumnTransformer\n",
    "from sklearn.impute import SimpleImputer\n",
    "from sklearn.preprocessing import OneHotEncoder, RobustScaler, MinMaxScaler\n",
    "\n",
    "import warnings \n",
    "warnings.filterwarnings('ignore')"
   ]
  },
  {
   "cell_type": "code",
   "execution_count": 4,
   "id": "c54ef7e6",
   "metadata": {
    "ExecuteTime": {
     "end_time": "2022-09-22T11:55:10.876681Z",
     "start_time": "2022-09-22T11:55:10.823152Z"
    }
   },
   "outputs": [
    {
     "data": {
      "text/html": [
       "<div>\n",
       "<style scoped>\n",
       "    .dataframe tbody tr th:only-of-type {\n",
       "        vertical-align: middle;\n",
       "    }\n",
       "\n",
       "    .dataframe tbody tr th {\n",
       "        vertical-align: top;\n",
       "    }\n",
       "\n",
       "    .dataframe thead th {\n",
       "        text-align: right;\n",
       "    }\n",
       "</style>\n",
       "<table border=\"1\" class=\"dataframe\">\n",
       "  <thead>\n",
       "    <tr style=\"text-align: right;\">\n",
       "      <th></th>\n",
       "      <th>Employed</th>\n",
       "      <th>Bank Balance</th>\n",
       "      <th>Annual Salary</th>\n",
       "      <th>Defaulted?</th>\n",
       "    </tr>\n",
       "    <tr>\n",
       "      <th>Index</th>\n",
       "      <th></th>\n",
       "      <th></th>\n",
       "      <th></th>\n",
       "      <th></th>\n",
       "    </tr>\n",
       "  </thead>\n",
       "  <tbody>\n",
       "    <tr>\n",
       "      <th>1</th>\n",
       "      <td>1</td>\n",
       "      <td>8754.36</td>\n",
       "      <td>532339.56</td>\n",
       "      <td>0</td>\n",
       "    </tr>\n",
       "    <tr>\n",
       "      <th>2</th>\n",
       "      <td>0</td>\n",
       "      <td>9806.16</td>\n",
       "      <td>145273.56</td>\n",
       "      <td>0</td>\n",
       "    </tr>\n",
       "    <tr>\n",
       "      <th>3</th>\n",
       "      <td>1</td>\n",
       "      <td>12882.60</td>\n",
       "      <td>381205.68</td>\n",
       "      <td>0</td>\n",
       "    </tr>\n",
       "    <tr>\n",
       "      <th>4</th>\n",
       "      <td>1</td>\n",
       "      <td>6351.00</td>\n",
       "      <td>428453.88</td>\n",
       "      <td>0</td>\n",
       "    </tr>\n",
       "    <tr>\n",
       "      <th>5</th>\n",
       "      <td>1</td>\n",
       "      <td>9427.92</td>\n",
       "      <td>461562.00</td>\n",
       "      <td>0</td>\n",
       "    </tr>\n",
       "  </tbody>\n",
       "</table>\n",
       "</div>"
      ],
      "text/plain": [
       "       Employed  Bank Balance  Annual Salary  Defaulted?\n",
       "Index                                                   \n",
       "1             1       8754.36      532339.56           0\n",
       "2             0       9806.16      145273.56           0\n",
       "3             1      12882.60      381205.68           0\n",
       "4             1       6351.00      428453.88           0\n",
       "5             1       9427.92      461562.00           0"
      ]
     },
     "execution_count": 4,
     "metadata": {},
     "output_type": "execute_result"
    }
   ],
   "source": [
    "#import data\n",
    "df = pd.read_csv('Default_Fin.csv', index_col='Index')\n",
    "df.head()"
   ]
  },
  {
   "cell_type": "markdown",
   "id": "cbfb16aa",
   "metadata": {},
   "source": [
    "# First\n",
    "### we do some simple EDA"
   ]
  },
  {
   "cell_type": "code",
   "execution_count": 5,
   "id": "9911a0b6",
   "metadata": {
    "ExecuteTime": {
     "end_time": "2022-09-22T11:55:41.834832Z",
     "start_time": "2022-09-22T11:55:41.809825Z"
    }
   },
   "outputs": [
    {
     "name": "stdout",
     "output_type": "stream",
     "text": [
      "<class 'pandas.core.frame.DataFrame'>\n",
      "Int64Index: 10000 entries, 1 to 10000\n",
      "Data columns (total 4 columns):\n",
      " #   Column         Non-Null Count  Dtype  \n",
      "---  ------         --------------  -----  \n",
      " 0   Employed       10000 non-null  int64  \n",
      " 1   Bank Balance   10000 non-null  float64\n",
      " 2   Annual Salary  10000 non-null  float64\n",
      " 3   Defaulted?     10000 non-null  int64  \n",
      "dtypes: float64(2), int64(2)\n",
      "memory usage: 390.6 KB\n"
     ]
    }
   ],
   "source": [
    "df.info()"
   ]
  },
  {
   "cell_type": "code",
   "execution_count": 7,
   "id": "2b8bb870",
   "metadata": {
    "ExecuteTime": {
     "end_time": "2022-09-22T11:55:51.341089Z",
     "start_time": "2022-09-22T11:55:51.318085Z"
    }
   },
   "outputs": [
    {
     "data": {
      "text/plain": [
       "(10000, 4)"
      ]
     },
     "execution_count": 7,
     "metadata": {},
     "output_type": "execute_result"
    }
   ],
   "source": [
    "df.shape\n",
    "# we can see the data has 10.000 records and 4 column"
   ]
  },
  {
   "cell_type": "markdown",
   "id": "da45cb2c",
   "metadata": {},
   "source": [
    "## Also we can use some interesting python package to do automated EDA\n",
    "Pandas profiling is a Python library that performs an automated Exploratory Data Analysis. It automatically generates a dataset profile report that gives valuable insights. "
   ]
  },
  {
   "cell_type": "code",
   "execution_count": 8,
   "id": "cadd0b32",
   "metadata": {
    "ExecuteTime": {
     "end_time": "2022-09-22T12:00:46.302496Z",
     "start_time": "2022-09-22T11:59:52.232040Z"
    }
   },
   "outputs": [
    {
     "data": {
      "application/vnd.jupyter.widget-view+json": {
       "model_id": "1ed5f676bc844bb9b8b1fe8b6b058636",
       "version_major": 2,
       "version_minor": 0
      },
      "text/plain": [
       "Summarize dataset:   0%|          | 0/5 [00:00<?, ?it/s]"
      ]
     },
     "metadata": {},
     "output_type": "display_data"
    },
    {
     "data": {
      "application/vnd.jupyter.widget-view+json": {
       "model_id": "e6ac212f42dd430fa42ae18a8b946d44",
       "version_major": 2,
       "version_minor": 0
      },
      "text/plain": [
       "Generate report structure:   0%|          | 0/1 [00:00<?, ?it/s]"
      ]
     },
     "metadata": {},
     "output_type": "display_data"
    },
    {
     "data": {
      "application/vnd.jupyter.widget-view+json": {
       "model_id": "",
       "version_major": 2,
       "version_minor": 0
      },
      "text/plain": [
       "Render widgets:   0%|          | 0/1 [00:00<?, ?it/s]"
      ]
     },
     "metadata": {},
     "output_type": "display_data"
    },
    {
     "data": {
      "application/vnd.jupyter.widget-view+json": {
       "model_id": "cf79280525ee4ec898bc02b74017e974",
       "version_major": 2,
       "version_minor": 0
      },
      "text/plain": [
       "VBox(children=(Tab(children=(Tab(children=(GridBox(children=(VBox(children=(GridspecLayout(children=(HTML(valu…"
      ]
     },
     "metadata": {},
     "output_type": "display_data"
    }
   ],
   "source": [
    "from pandas_profiling import ProfileReport\n",
    "profile = ProfileReport(df, title=\"Pandas Profiling Report\")\n",
    "profile.to_widgets()\n",
    "\n",
    "# we can see the dataset does not have missing value "
   ]
  },
  {
   "cell_type": "markdown",
   "id": "7cb81a46",
   "metadata": {},
   "source": [
    "# Create Model\n",
    "\n",
    "### First stage, we can create simple model"
   ]
  },
  {
   "cell_type": "code",
   "execution_count": 9,
   "id": "f8216dce",
   "metadata": {
    "ExecuteTime": {
     "end_time": "2022-09-22T12:04:04.450078Z",
     "start_time": "2022-09-22T12:04:04.418069Z"
    }
   },
   "outputs": [
    {
     "data": {
      "text/plain": [
       "((8000, 3), (2000, 3), (8000,), (2000,))"
      ]
     },
     "execution_count": 9,
     "metadata": {},
     "output_type": "execute_result"
    }
   ],
   "source": [
    "X = df.drop(columns=\"Defaulted?\")\n",
    "y = df['Defaulted?'] # this is the target\n",
    "\n",
    "X_train, X_test, y_train, y_test = train_test_split(X, y, test_size=0.2, stratify=y, random_state=42)\n",
    "X_train.shape, X_test.shape, y_train.shape, y_test.shape"
   ]
  },
  {
   "cell_type": "code",
   "execution_count": 10,
   "id": "66c6d27b",
   "metadata": {
    "ExecuteTime": {
     "end_time": "2022-09-22T12:04:40.991751Z",
     "start_time": "2022-09-22T12:04:40.981752Z"
    }
   },
   "outputs": [],
   "source": [
    "## Create Pipeline for Imputer and Transformation\n",
    "\n",
    "numerical_pipe = Pipeline([\n",
    "    ('imputer', SimpleImputer(strategy='mean')),\n",
    "    ('scaler', RobustScaler())\n",
    "])\n",
    "\n",
    "categorical_pipe = Pipeline([\n",
    "    ('imputer', SimpleImputer(strategy='most_frequent')),\n",
    "    ('onehot', OneHotEncoder())\n",
    "])\n",
    "\n",
    "\n",
    "preprocessor = ColumnTransformer([\n",
    "    ('numeric', numerical_pipe, ['Bank Balance', 'Annual Salary']),\n",
    "    ('categoric', categorical_pipe, [\"Employed\"])\n",
    "])"
   ]
  },
  {
   "cell_type": "code",
   "execution_count": 11,
   "id": "950c29ba",
   "metadata": {
    "ExecuteTime": {
     "end_time": "2022-09-22T12:05:44.022133Z",
     "start_time": "2022-09-22T12:05:44.001131Z"
    }
   },
   "outputs": [],
   "source": [
    "# we can use Logistic Regression\n",
    "from sklearn.linear_model import LogisticRegression\n",
    "pipeline = Pipeline([\n",
    "    ('prep', preprocessor),\n",
    "    ('algo', LogisticRegression(solver='lbfgs', n_jobs=-1, random_state=42))\n",
    "])"
   ]
  },
  {
   "cell_type": "code",
   "execution_count": 12,
   "id": "461b3c9a",
   "metadata": {
    "ExecuteTime": {
     "end_time": "2022-09-22T12:06:15.416389Z",
     "start_time": "2022-09-22T12:06:03.215723Z"
    }
   },
   "outputs": [
    {
     "name": "stdout",
     "output_type": "stream",
     "text": [
      "Fitting 3 folds for each of 14 candidates, totalling 42 fits\n",
      "{'algo__C': 1.0, 'algo__fit_intercept': True}\n",
      "0.9735 0.9733749991678646 0.973\n"
     ]
    }
   ],
   "source": [
    "from sklearn.model_selection import GridSearchCV\n",
    "\n",
    "param = {'algo__fit_intercept': [True, False],\n",
    "         'algo__C': [1.e-03, 1.e-02, 1.e-01, 1.e+00, 1.e+01, 1.e+02, 1.e+03]\n",
    "        }\n",
    "\n",
    "model = GridSearchCV(pipeline, param, cv=3, n_jobs=-1, verbose=1)\n",
    "model.fit(X_train, y_train)\n",
    "\n",
    "print(model.best_params_)\n",
    "print(model.score(X_train, y_train), model.best_score_, model.score(X_test, y_test))"
   ]
  },
  {
   "cell_type": "code",
   "execution_count": 14,
   "id": "88ace29b",
   "metadata": {
    "ExecuteTime": {
     "end_time": "2022-09-22T12:07:31.792196Z",
     "start_time": "2022-09-22T12:07:30.919042Z"
    }
   },
   "outputs": [
    {
     "name": "stdout",
     "output_type": "stream",
     "text": [
      "              precision    recall  f1-score   support\n",
      "\n",
      "           0       0.98      1.00      0.99      1933\n",
      "           1       0.72      0.31      0.44        67\n",
      "\n",
      "    accuracy                           0.97      2000\n",
      "   macro avg       0.85      0.65      0.71      2000\n",
      "weighted avg       0.97      0.97      0.97      2000\n",
      "\n"
     ]
    },
    {
     "data": {
      "image/png": "[encoded data removed]",
      "text/plain": [
       "<Figure size 640x480 with 2 Axes>"
      ]
     },
     "metadata": {},
     "output_type": "display_data"
    }
   ],
   "source": [
    "# Doing evaluation\n",
    "from sklearn.metrics import plot_confusion_matrix, classification_report, confusion_matrix\n",
    "import matplotlib.pyplot as plt \n",
    "\n",
    "y_pred = model.predict(X_test)\n",
    "\n",
    "print(classification_report(y_test,y_pred))\n",
    "\n",
    "color = 'black'\n",
    "matrix = plot_confusion_matrix(model, X_test, y_test, cmap=plt.cm.Blues)\n",
    "matrix.ax_.set_title('Confusion Matrix', color=color)\n",
    "plt.xlabel('Predicted Label', color=color)\n",
    "plt.ylabel('True Label', color=color)\n",
    "plt.gcf().axes[0].tick_params(colors=color)\n",
    "plt.gcf().axes[1].tick_params(colors=color)\n",
    "plt.show()"
   ]
  },
  {
   "cell_type": "markdown",
   "id": "5dacc92d",
   "metadata": {},
   "source": [
    "## So,\n",
    "we can see the Score is really high (97%) but in this case, that score doesn't really matter.\n",
    "we must see the f-1 score. F-1 score is really good for predicting 0, why is this happen? this is because imbalance data in target column. So, our model have tendency predict 0 than 1 because it finds 0 more often than 1 when studying the data.\n",
    "\n",
    "### Then what should we do?\n",
    "we can do Sampling, for example over sampling with SMOTE "
   ]
  },
  {
   "cell_type": "code",
   "execution_count": 15,
   "id": "41086605",
   "metadata": {
    "ExecuteTime": {
     "end_time": "2022-09-22T12:14:59.092824Z",
     "start_time": "2022-09-22T12:14:58.826774Z"
    }
   },
   "outputs": [
    {
     "data": {
      "image/png": "[encoded data removed]",
      "text/plain": [
       "<Figure size 640x480 with 1 Axes>"
      ]
     },
     "metadata": {},
     "output_type": "display_data"
    }
   ],
   "source": [
    "# first check imbalance data\n",
    "ax = sns.countplot(x='Defaulted?',\n",
    "                 data=df)\n",
    "\n",
    "for i in ax.containers:\n",
    "    ax.bar_label(i,)"
   ]
  },
  {
   "cell_type": "code",
   "execution_count": 16,
   "id": "e12f673a",
   "metadata": {
    "ExecuteTime": {
     "end_time": "2022-09-22T12:15:53.013572Z",
     "start_time": "2022-09-22T12:15:52.605977Z"
    }
   },
   "outputs": [
    {
     "data": {
      "text/plain": [
       "0    9667\n",
       "1    9667\n",
       "Name: Defaulted?, dtype: int64"
      ]
     },
     "execution_count": 16,
     "metadata": {},
     "output_type": "execute_result"
    }
   ],
   "source": [
    "# import library for smote\n",
    "from imblearn.over_sampling import SMOTE\n",
    "\n",
    "smote = SMOTE(sampling_strategy='minority')\n",
    "X_sm, y_sm = smote.fit_resample(X,y)\n",
    "\n",
    "y_sm.value_counts()"
   ]
  },
  {
   "cell_type": "code",
   "execution_count": 17,
   "id": "1a71b572",
   "metadata": {
    "ExecuteTime": {
     "end_time": "2022-09-22T12:16:16.086643Z",
     "start_time": "2022-09-22T12:16:16.030631Z"
    }
   },
   "outputs": [
    {
     "data": {
      "text/plain": [
       "((14500, 3), (4834, 3), (14500,), (4834,))"
      ]
     },
     "execution_count": 17,
     "metadata": {},
     "output_type": "execute_result"
    }
   ],
   "source": [
    "## train test split again \n",
    "X_train_sm, X_test_sm, y_train_sm, y_test_sm = train_test_split(X_sm, y_sm, test_size=0.25, stratify=y_sm, random_state=42)\n",
    "X_train_sm.shape, X_test_sm.shape, y_train_sm.shape, y_test_sm.shape"
   ]
  },
  {
   "cell_type": "code",
   "execution_count": 19,
   "id": "c9b80d18",
   "metadata": {
    "ExecuteTime": {
     "end_time": "2022-09-22T12:18:56.051514Z",
     "start_time": "2022-09-22T12:18:44.100087Z"
    }
   },
   "outputs": [
    {
     "name": "stdout",
     "output_type": "stream",
     "text": [
      "Fitting 3 folds for each of 14 candidates, totalling 42 fits\n",
      "{'algo__C': 0.01, 'algo__fit_intercept': False}\n",
      "0.8984827586206896 0.8984139348146162 0.8953247827885809\n"
     ]
    }
   ],
   "source": [
    "pipeline_sm = Pipeline([\n",
    "    ('prep', preprocessor),\n",
    "    ('algo', LogisticRegression(solver='lbfgs', n_jobs=-1, random_state=42))\n",
    "])\n",
    "\n",
    "param = {'algo__fit_intercept': [True, False],\n",
    "         'algo__C': [1.e-03, 1.e-02, 1.e-01, 1.e+00, 1.e+01, 1.e+02, 1.e+03]\n",
    "        }\n",
    "\n",
    "model_sm = GridSearchCV(pipeline_sm, param, cv=3, n_jobs=-1, verbose=1)\n",
    "model_sm.fit(X_train_sm, y_train_sm)\n",
    "\n",
    "print(model_sm.best_params_)\n",
    "print(model_sm.score(X_train_sm, y_train_sm), model_sm.best_score_, model_sm.score(X_test_sm, y_test_sm))"
   ]
  },
  {
   "cell_type": "code",
   "execution_count": 22,
   "id": "c5e1a809",
   "metadata": {
    "ExecuteTime": {
     "end_time": "2022-09-22T12:26:07.026177Z",
     "start_time": "2022-09-22T12:26:06.535081Z"
    }
   },
   "outputs": [
    {
     "name": "stdout",
     "output_type": "stream",
     "text": [
      "              precision    recall  f1-score   support\n",
      "\n",
      "           0       0.92      0.87      0.89      2417\n",
      "           1       0.87      0.92      0.90      2417\n",
      "\n",
      "    accuracy                           0.90      4834\n",
      "   macro avg       0.90      0.90      0.90      4834\n",
      "weighted avg       0.90      0.90      0.90      4834\n",
      "\n"
     ]
    },
    {
     "data": {
      "image/png": "[encoded data removed]",
      "text/plain": [
       "<Figure size 640x480 with 2 Axes>"
      ]
     },
     "metadata": {},
     "output_type": "display_data"
    }
   ],
   "source": [
    "y_pred_sm = model_sm.predict(X_test_sm)\n",
    "\n",
    "print(classification_report(y_test_sm,y_pred_sm))\n",
    "\n",
    "color = 'black'\n",
    "matrix = plot_confusion_matrix(model_sm, X_test_sm, y_test_sm, cmap=plt.cm.Blues)\n",
    "matrix.ax_.set_title('Confusion Matrix', color=color)\n",
    "plt.xlabel('Predicted Label', color=color)\n",
    "plt.ylabel('True Label', color=color)\n",
    "plt.gcf().axes[0].tick_params(colors=color)\n",
    "plt.gcf().axes[1].tick_params(colors=color)\n",
    "plt.show()"
   ]
  },
  {
   "cell_type": "markdown",
   "id": "93d34a5a",
   "metadata": {},
   "source": [
    "## The prediction is getting better\n",
    "we can see the f1 score is getting better, what about we using another algorithm\n",
    "\n",
    "## Then what next? maybe we can change the algorithm to the Random Forest Classifier\n",
    "Random Forest is strong learner, perhaps we can get a better result.\n",
    "Strong learner is such a good things but we must concern that random forest could get overfit, so we must set the parameter to handle overfitting tendency"
   ]
  },
  {
   "cell_type": "code",
   "execution_count": 23,
   "id": "e7aeb20a",
   "metadata": {
    "ExecuteTime": {
     "end_time": "2022-09-22T12:39:48.114183Z",
     "start_time": "2022-09-22T12:27:38.626117Z"
    }
   },
   "outputs": [
    {
     "name": "stdout",
     "output_type": "stream",
     "text": [
      "Fitting 3 folds for each of 81 candidates, totalling 243 fits\n"
     ]
    },
    {
     "data": {
      "text/html": [
       "<style>#sk-container-id-1 {color: black;background-color: white;}#sk-container-id-1 pre{padding: 0;}#sk-container-id-1 div.sk-toggleable {background-color: white;}#sk-container-id-1 label.sk-toggleable__label {cursor: pointer;display: block;width: 100%;margin-bottom: 0;padding: 0.3em;box-sizing: border-box;text-align: center;}#sk-container-id-1 label.sk-toggleable__label-arrow:before {content: \"▸\";float: left;margin-right: 0.25em;color: #696969;}#sk-container-id-1 label.sk-toggleable__label-arrow:hover:before {color: black;}#sk-container-id-1 div.sk-estimator:hover label.sk-toggleable__label-arrow:before {color: black;}#sk-container-id-1 div.sk-toggleable__content {max-height: 0;max-width: 0;overflow: hidden;text-align: left;background-color: #f0f8ff;}#sk-container-id-1 div.sk-toggleable__content pre {margin: 0.2em;color: black;border-radius: 0.25em;background-color: #f0f8ff;}#sk-container-id-1 input.sk-toggleable__control:checked~div.sk-toggleable__content {max-height: 200px;max-width: 100%;overflow: auto;}#sk-container-id-1 input.sk-toggleable__control:checked~label.sk-toggleable__label-arrow:before {content: \"▾\";}#sk-container-id-1 div.sk-estimator input.sk-toggleable__control:checked~label.sk-toggleable__label {background-color: #d4ebff;}#sk-container-id-1 div.sk-label input.sk-toggleable__control:checked~label.sk-toggleable__label {background-color: #d4ebff;}#sk-container-id-1 input.sk-hidden--visually {border: 0;clip: rect(1px 1px 1px 1px);clip: rect(1px, 1px, 1px, 1px);height: 1px;margin: -1px;overflow: hidden;padding: 0;position: absolute;width: 1px;}#sk-container-id-1 div.sk-estimator {font-family: monospace;background-color: #f0f8ff;border: 1px dotted black;border-radius: 0.25em;box-sizing: border-box;margin-bottom: 0.5em;}#sk-container-id-1 div.sk-estimator:hover {background-color: #d4ebff;}#sk-container-id-1 div.sk-parallel-item::after {content: \"\";width: 100%;border-bottom: 1px solid gray;flex-grow: 1;}#sk-container-id-1 div.sk-label:hover label.sk-toggleable__label {background-color: #d4ebff;}#sk-container-id-1 div.sk-serial::before {content: \"\";position: absolute;border-left: 1px solid gray;box-sizing: border-box;top: 0;bottom: 0;left: 50%;z-index: 0;}#sk-container-id-1 div.sk-serial {display: flex;flex-direction: column;align-items: center;background-color: white;padding-right: 0.2em;padding-left: 0.2em;position: relative;}#sk-container-id-1 div.sk-item {position: relative;z-index: 1;}#sk-container-id-1 div.sk-parallel {display: flex;align-items: stretch;justify-content: center;background-color: white;position: relative;}#sk-container-id-1 div.sk-item::before, #sk-container-id-1 div.sk-parallel-item::before {content: \"\";position: absolute;border-left: 1px solid gray;box-sizing: border-box;top: 0;bottom: 0;left: 50%;z-index: -1;}#sk-container-id-1 div.sk-parallel-item {display: flex;flex-direction: column;z-index: 1;position: relative;background-color: white;}#sk-container-id-1 div.sk-parallel-item:first-child::after {align-self: flex-end;width: 50%;}#sk-container-id-1 div.sk-parallel-item:last-child::after {align-self: flex-start;width: 50%;}#sk-container-id-1 div.sk-parallel-item:only-child::after {width: 0;}#sk-container-id-1 div.sk-dashed-wrapped {border: 1px dashed gray;margin: 0 0.4em 0.5em 0.4em;box-sizing: border-box;padding-bottom: 0.4em;background-color: white;}#sk-container-id-1 div.sk-label label {font-family: monospace;font-weight: bold;display: inline-block;line-height: 1.2em;}#sk-container-id-1 div.sk-label-container {text-align: center;}#sk-container-id-1 div.sk-container {/* jupyter's `normalize.less` sets `[hidden] { display: none; }` but bootstrap.min.css set `[hidden] { display: none !important; }` so we also need the `!important` here to be able to override the default hidden behavior on the sphinx rendered scikit-learn.org. See: https://github.com/scikit-learn/scikit-learn/issues/21755 */display: inline-block !important;position: relative;}#sk-container-id-1 div.sk-text-repr-fallback {display: none;}</style><div id=\"sk-container-id-1\" class=\"sk-top-container\"><div class=\"sk-text-repr-fallback\"><pre>GridSearchCV(cv=3,\n",
       "             estimator=Pipeline(steps=[(&#x27;prep&#x27;,\n",
       "                                        ColumnTransformer(transformers=[(&#x27;numeric&#x27;,\n",
       "                                                                         Pipeline(steps=[(&#x27;imputer&#x27;,\n",
       "                                                                                          SimpleImputer()),\n",
       "                                                                                         (&#x27;scaler&#x27;,\n",
       "                                                                                          RobustScaler())]),\n",
       "                                                                         [&#x27;Bank &#x27;\n",
       "                                                                          &#x27;Balance&#x27;,\n",
       "                                                                          &#x27;Annual &#x27;\n",
       "                                                                          &#x27;Salary&#x27;]),\n",
       "                                                                        (&#x27;categoric&#x27;,\n",
       "                                                                         Pipeline(steps=[(&#x27;imputer&#x27;,\n",
       "                                                                                          SimpleImputer(strategy=&#x27;most_frequent&#x27;)),\n",
       "                                                                                         (&#x27;onehot&#x27;,\n",
       "                                                                                          OneHotEncoder())]),\n",
       "                                                                         [&#x27;Employed&#x27;])])),\n",
       "                                       (&#x27;algo&#x27;,\n",
       "                                        RandomForestClassifier(n_jobs=-1,\n",
       "                                                               random_state=42))]),\n",
       "             n_jobs=-1,\n",
       "             param_grid={&#x27;algo__max_depth&#x27;: [20, 50, 80],\n",
       "                         &#x27;algo__max_features&#x27;: [0.3, 0.6, 0.8],\n",
       "                         &#x27;algo__min_samples_leaf&#x27;: [1, 5, 10],\n",
       "                         &#x27;algo__n_estimators&#x27;: [100, 150, 200]},\n",
       "             verbose=1)</pre><b>In a Jupyter environment, please rerun this cell to show the HTML representation or trust the notebook. <br />On GitHub, the HTML representation is unable to render, please try loading this page with nbviewer.org.</b></div><div class=\"sk-container\" hidden><div class=\"sk-item sk-dashed-wrapped\"><div class=\"sk-label-container\"><div class=\"sk-label sk-toggleable\"><input class=\"sk-toggleable__control sk-hidden--visually\" id=\"sk-estimator-id-1\" type=\"checkbox\" ><label for=\"sk-estimator-id-1\" class=\"sk-toggleable__label sk-toggleable__label-arrow\">GridSearchCV</label><div class=\"sk-toggleable__content\"><pre>GridSearchCV(cv=3,\n",
       "             estimator=Pipeline(steps=[(&#x27;prep&#x27;,\n",
       "                                        ColumnTransformer(transformers=[(&#x27;numeric&#x27;,\n",
       "                                                                         Pipeline(steps=[(&#x27;imputer&#x27;,\n",
       "                                                                                          SimpleImputer()),\n",
       "                                                                                         (&#x27;scaler&#x27;,\n",
       "                                                                                          RobustScaler())]),\n",
       "                                                                         [&#x27;Bank &#x27;\n",
       "                                                                          &#x27;Balance&#x27;,\n",
       "                                                                          &#x27;Annual &#x27;\n",
       "                                                                          &#x27;Salary&#x27;]),\n",
       "                                                                        (&#x27;categoric&#x27;,\n",
       "                                                                         Pipeline(steps=[(&#x27;imputer&#x27;,\n",
       "                                                                                          SimpleImputer(strategy=&#x27;most_frequent&#x27;)),\n",
       "                                                                                         (&#x27;onehot&#x27;,\n",
       "                                                                                          OneHotEncoder())]),\n",
       "                                                                         [&#x27;Employed&#x27;])])),\n",
       "                                       (&#x27;algo&#x27;,\n",
       "                                        RandomForestClassifier(n_jobs=-1,\n",
       "                                                               random_state=42))]),\n",
       "             n_jobs=-1,\n",
       "             param_grid={&#x27;algo__max_depth&#x27;: [20, 50, 80],\n",
       "                         &#x27;algo__max_features&#x27;: [0.3, 0.6, 0.8],\n",
       "                         &#x27;algo__min_samples_leaf&#x27;: [1, 5, 10],\n",
       "                         &#x27;algo__n_estimators&#x27;: [100, 150, 200]},\n",
       "             verbose=1)</pre></div></div></div><div class=\"sk-parallel\"><div class=\"sk-parallel-item\"><div class=\"sk-item\"><div class=\"sk-label-container\"><div class=\"sk-label sk-toggleable\"><input class=\"sk-toggleable__control sk-hidden--visually\" id=\"sk-estimator-id-2\" type=\"checkbox\" ><label for=\"sk-estimator-id-2\" class=\"sk-toggleable__label sk-toggleable__label-arrow\">estimator: Pipeline</label><div class=\"sk-toggleable__content\"><pre>Pipeline(steps=[(&#x27;prep&#x27;,\n",
       "                 ColumnTransformer(transformers=[(&#x27;numeric&#x27;,\n",
       "                                                  Pipeline(steps=[(&#x27;imputer&#x27;,\n",
       "                                                                   SimpleImputer()),\n",
       "                                                                  (&#x27;scaler&#x27;,\n",
       "                                                                   RobustScaler())]),\n",
       "                                                  [&#x27;Bank Balance&#x27;,\n",
       "                                                   &#x27;Annual Salary&#x27;]),\n",
       "                                                 (&#x27;categoric&#x27;,\n",
       "                                                  Pipeline(steps=[(&#x27;imputer&#x27;,\n",
       "                                                                   SimpleImputer(strategy=&#x27;most_frequent&#x27;)),\n",
       "                                                                  (&#x27;onehot&#x27;,\n",
       "                                                                   OneHotEncoder())]),\n",
       "                                                  [&#x27;Employed&#x27;])])),\n",
       "                (&#x27;algo&#x27;, RandomForestClassifier(n_jobs=-1, random_state=42))])</pre></div></div></div><div class=\"sk-serial\"><div class=\"sk-item\"><div class=\"sk-serial\"><div class=\"sk-item sk-dashed-wrapped\"><div class=\"sk-label-container\"><div class=\"sk-label sk-toggleable\"><input class=\"sk-toggleable__control sk-hidden--visually\" id=\"sk-estimator-id-3\" type=\"checkbox\" ><label for=\"sk-estimator-id-3\" class=\"sk-toggleable__label sk-toggleable__label-arrow\">prep: ColumnTransformer</label><div class=\"sk-toggleable__content\"><pre>ColumnTransformer(transformers=[(&#x27;numeric&#x27;,\n",
       "                                 Pipeline(steps=[(&#x27;imputer&#x27;, SimpleImputer()),\n",
       "                                                 (&#x27;scaler&#x27;, RobustScaler())]),\n",
       "                                 [&#x27;Bank Balance&#x27;, &#x27;Annual Salary&#x27;]),\n",
       "                                (&#x27;categoric&#x27;,\n",
       "                                 Pipeline(steps=[(&#x27;imputer&#x27;,\n",
       "                                                  SimpleImputer(strategy=&#x27;most_frequent&#x27;)),\n",
       "                                                 (&#x27;onehot&#x27;, OneHotEncoder())]),\n",
       "                                 [&#x27;Employed&#x27;])])</pre></div></div></div><div class=\"sk-parallel\"><div class=\"sk-parallel-item\"><div class=\"sk-item\"><div class=\"sk-label-container\"><div class=\"sk-label sk-toggleable\"><input class=\"sk-toggleable__control sk-hidden--visually\" id=\"sk-estimator-id-4\" type=\"checkbox\" ><label for=\"sk-estimator-id-4\" class=\"sk-toggleable__label sk-toggleable__label-arrow\">numeric</label><div class=\"sk-toggleable__content\"><pre>[&#x27;Bank Balance&#x27;, &#x27;Annual Salary&#x27;]</pre></div></div></div><div class=\"sk-serial\"><div class=\"sk-item\"><div class=\"sk-serial\"><div class=\"sk-item\"><div class=\"sk-estimator sk-toggleable\"><input class=\"sk-toggleable__control sk-hidden--visually\" id=\"sk-estimator-id-5\" type=\"checkbox\" ><label for=\"sk-estimator-id-5\" class=\"sk-toggleable__label sk-toggleable__label-arrow\">SimpleImputer</label><div class=\"sk-toggleable__content\"><pre>SimpleImputer()</pre></div></div></div><div class=\"sk-item\"><div class=\"sk-estimator sk-toggleable\"><input class=\"sk-toggleable__control sk-hidden--visually\" id=\"sk-estimator-id-6\" type=\"checkbox\" ><label for=\"sk-estimator-id-6\" class=\"sk-toggleable__label sk-toggleable__label-arrow\">RobustScaler</label><div class=\"sk-toggleable__content\"><pre>RobustScaler()</pre></div></div></div></div></div></div></div></div><div class=\"sk-parallel-item\"><div class=\"sk-item\"><div class=\"sk-label-container\"><div class=\"sk-label sk-toggleable\"><input class=\"sk-toggleable__control sk-hidden--visually\" id=\"sk-estimator-id-7\" type=\"checkbox\" ><label for=\"sk-estimator-id-7\" class=\"sk-toggleable__label sk-toggleable__label-arrow\">categoric</label><div class=\"sk-toggleable__content\"><pre>[&#x27;Employed&#x27;]</pre></div></div></div><div class=\"sk-serial\"><div class=\"sk-item\"><div class=\"sk-serial\"><div class=\"sk-item\"><div class=\"sk-estimator sk-toggleable\"><input class=\"sk-toggleable__control sk-hidden--visually\" id=\"sk-estimator-id-8\" type=\"checkbox\" ><label for=\"sk-estimator-id-8\" class=\"sk-toggleable__label sk-toggleable__label-arrow\">SimpleImputer</label><div class=\"sk-toggleable__content\"><pre>SimpleImputer(strategy=&#x27;most_frequent&#x27;)</pre></div></div></div><div class=\"sk-item\"><div class=\"sk-estimator sk-toggleable\"><input class=\"sk-toggleable__control sk-hidden--visually\" id=\"sk-estimator-id-9\" type=\"checkbox\" ><label for=\"sk-estimator-id-9\" class=\"sk-toggleable__label sk-toggleable__label-arrow\">OneHotEncoder</label><div class=\"sk-toggleable__content\"><pre>OneHotEncoder()</pre></div></div></div></div></div></div></div></div></div></div><div class=\"sk-item\"><div class=\"sk-estimator sk-toggleable\"><input class=\"sk-toggleable__control sk-hidden--visually\" id=\"sk-estimator-id-10\" type=\"checkbox\" ><label for=\"sk-estimator-id-10\" class=\"sk-toggleable__label sk-toggleable__label-arrow\">RandomForestClassifier</label><div class=\"sk-toggleable__content\"><pre>RandomForestClassifier(n_jobs=-1, random_state=42)</pre></div></div></div></div></div></div></div></div></div></div></div></div>"
      ],
      "text/plain": [
       "GridSearchCV(cv=3,\n",
       "             estimator=Pipeline(steps=[('prep',\n",
       "                                        ColumnTransformer(transformers=[('numeric',\n",
       "                                                                         Pipeline(steps=[('imputer',\n",
       "                                                                                          SimpleImputer()),\n",
       "                                                                                         ('scaler',\n",
       "                                                                                          RobustScaler())]),\n",
       "                                                                         ['Bank '\n",
       "                                                                          'Balance',\n",
       "                                                                          'Annual '\n",
       "                                                                          'Salary']),\n",
       "                                                                        ('categoric',\n",
       "                                                                         Pipeline(steps=[('imputer',\n",
       "                                                                                          SimpleImputer(strategy='most_frequent')),\n",
       "                                                                                         ('onehot',\n",
       "                                                                                          OneHotEncoder())]),\n",
       "                                                                         ['Employed'])])),\n",
       "                                       ('algo',\n",
       "                                        RandomForestClassifier(n_jobs=-1,\n",
       "                                                               random_state=42))]),\n",
       "             n_jobs=-1,\n",
       "             param_grid={'algo__max_depth': [20, 50, 80],\n",
       "                         'algo__max_features': [0.3, 0.6, 0.8],\n",
       "                         'algo__min_samples_leaf': [1, 5, 10],\n",
       "                         'algo__n_estimators': [100, 150, 200]},\n",
       "             verbose=1)"
      ]
     },
     "execution_count": 23,
     "metadata": {},
     "output_type": "execute_result"
    }
   ],
   "source": [
    "from sklearn.ensemble import RandomForestClassifier\n",
    "param_rf ={'algo__n_estimators': [100, 150, 200],\n",
    "             'algo__max_depth': [20, 50, 80],\n",
    "             'algo__max_features': [0.3, 0.6, 0.8],\n",
    "             'algo__min_samples_leaf': [1, 5, 10]\n",
    "}\n",
    "\n",
    "pipeline_sm_rf = Pipeline([\n",
    "    ('prep', preprocessor),\n",
    "    ('algo', RandomForestClassifier(n_jobs=-1, random_state=42))\n",
    "])\n",
    "\n",
    "\n",
    "model_sm_rf = GridSearchCV(pipeline_sm_rf, param_rf, cv=3, n_jobs=-1, verbose=1)\n",
    "model_sm_rf.fit(X_train_sm, y_train_sm)"
   ]
  },
  {
   "cell_type": "code",
   "execution_count": 24,
   "id": "34e7a159",
   "metadata": {
    "ExecuteTime": {
     "end_time": "2022-09-22T12:39:50.131609Z",
     "start_time": "2022-09-22T12:39:49.077390Z"
    }
   },
   "outputs": [
    {
     "name": "stdout",
     "output_type": "stream",
     "text": [
      "              precision    recall  f1-score   support\n",
      "\n",
      "           0       0.96      0.90      0.93      2417\n",
      "           1       0.91      0.96      0.93      2417\n",
      "\n",
      "    accuracy                           0.93      4834\n",
      "   macro avg       0.93      0.93      0.93      4834\n",
      "weighted avg       0.93      0.93      0.93      4834\n",
      "\n"
     ]
    },
    {
     "data": {
      "image/png": "[encoded data removed]",
      "text/plain": [
       "<Figure size 640x480 with 2 Axes>"
      ]
     },
     "metadata": {},
     "output_type": "display_data"
    }
   ],
   "source": [
    "y_pred_sm = model_sm_rf.predict(X_test_sm)\n",
    "\n",
    "print(classification_report(y_test_sm,y_pred_sm))\n",
    "\n",
    "color = 'black'\n",
    "matrix = plot_confusion_matrix(model_sm_rf, X_test_sm, y_test_sm, cmap=plt.cm.Blues)\n",
    "matrix.ax_.set_title('Confusion Matrix', color=color)\n",
    "plt.xlabel('Predicted Label', color=color)\n",
    "plt.ylabel('True Label', color=color)\n",
    "plt.gcf().axes[0].tick_params(colors=color)\n",
    "plt.gcf().axes[1].tick_params(colors=color)\n",
    "plt.show()"
   ]
  },
  {
   "cell_type": "markdown",
   "id": "f6033427",
   "metadata": {},
   "source": [
    "#### As we can see, the model improved based on f1 score. So, we use this algorithm for now"
   ]
  },
  {
   "cell_type": "markdown",
   "id": "39761639",
   "metadata": {},
   "source": [
    "## Last Step\n",
    "# Save the model"
   ]
  },
  {
   "cell_type": "code",
   "execution_count": 25,
   "id": "c6aa5443",
   "metadata": {
    "ExecuteTime": {
     "end_time": "2022-09-22T12:42:37.760969Z",
     "start_time": "2022-09-22T12:42:37.744967Z"
    },
    "code_folding": []
   },
   "outputs": [],
   "source": [
    "import pickle \n",
    "\n",
    "# save the model to disk\n",
    "filename = 'model_smote_rf.sav'\n",
    "pickle.dump(model_sm, open(filename, 'wb'))"
   ]
  },
  {
   "cell_type": "markdown",
   "id": "195e6bca",
   "metadata": {},
   "source": [
    "# Build Simple Website with Streamlit\n",
    "Next, we build simple website to implement our algorithm with Streamlit Package\n",
    "File name : app.py"
   ]
  }
 ],
 "metadata": {
  "kernelspec": {
   "display_name": "Python 3 (ipykernel)",
   "language": "python",
   "name": "python3"
  },
  "language_info": {
   "codemirror_mode": {
    "name": "ipython",
    "version": 3
   },
   "file_extension": ".py",
   "mimetype": "text/x-python",
   "name": "python",
   "nbconvert_exporter": "python",
   "pygments_lexer": "ipython3",
   "version": "3.10.6"
  },
  "varInspector": {
   "cols": {
    "lenName": 16,
    "lenType": 16,
    "lenVar": 40
   },
   "kernels_config": {
    "python": {
     "delete_cmd_postfix": "",
     "delete_cmd_prefix": "del ",
     "library": "var_list.py",
     "varRefreshCmd": "print(var_dic_list())"
    },
    "r": {
     "delete_cmd_postfix": ") ",
     "delete_cmd_prefix": "rm(",
     "library": "var_list.r",
     "varRefreshCmd": "cat(var_dic_list()) "
    }
   },
   "types_to_exclude": [
    "module",
    "function",
    "builtin_function_or_method",
    "instance",
    "_Feature"
   ],
   "window_display": false
  }
 },
 "nbformat": 4,
 "nbformat_minor": 5
}
